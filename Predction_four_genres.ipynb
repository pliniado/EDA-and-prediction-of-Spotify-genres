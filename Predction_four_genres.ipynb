{
 "cells": [
  {
   "cell_type": "markdown",
   "id": "2604b4c7",
   "metadata": {},
   "source": [
    "## Load necessary modules and data"
   ]
  },
  {
   "cell_type": "markdown",
   "id": "23c5d42d",
   "metadata": {},
   "source": [
    "  "
   ]
  },
  {
   "cell_type": "code",
   "execution_count": 394,
   "id": "a2d7de8c",
   "metadata": {},
   "outputs": [],
   "source": [
    "import pandas as pd\n",
    "import numpy as np\n",
    "import matplotlib.pyplot as plt\n",
    "%matplotlib inline\n",
    "import seaborn as sns"
   ]
  },
  {
   "cell_type": "code",
   "execution_count": 395,
   "id": "94f13195",
   "metadata": {},
   "outputs": [],
   "source": [
    "from sklearn.model_selection import train_test_split,KFold, cross_val_score\n",
    "from sklearn.preprocessing import StandardScaler\n",
    "from sklearn.decomposition import PCA\n",
    "from sklearn.tree import DecisionTreeClassifier\n",
    "from sklearn.linear_model import LogisticRegression\n",
    "from sklearn.metrics import classification_report\n",
    "from sklearn.pipeline import Pipeline\n",
    "from sklearn.neighbors import KNeighborsClassifier"
   ]
  },
  {
   "cell_type": "code",
   "execution_count": 396,
   "id": "9caed44a",
   "metadata": {},
   "outputs": [
    {
     "data": {
      "text/html": [
       "<div>\n",
       "<style scoped>\n",
       "    .dataframe tbody tr th:only-of-type {\n",
       "        vertical-align: middle;\n",
       "    }\n",
       "\n",
       "    .dataframe tbody tr th {\n",
       "        vertical-align: top;\n",
       "    }\n",
       "\n",
       "    .dataframe thead th {\n",
       "        text-align: right;\n",
       "    }\n",
       "</style>\n",
       "<table border=\"1\" class=\"dataframe\">\n",
       "  <thead>\n",
       "    <tr style=\"text-align: right;\">\n",
       "      <th></th>\n",
       "      <th>genre</th>\n",
       "      <th>artist_name</th>\n",
       "      <th>track_name</th>\n",
       "      <th>track_id</th>\n",
       "      <th>popularity</th>\n",
       "      <th>acousticness</th>\n",
       "      <th>danceability</th>\n",
       "      <th>duration_ms</th>\n",
       "      <th>energy</th>\n",
       "      <th>instrumentalness</th>\n",
       "      <th>key</th>\n",
       "      <th>liveness</th>\n",
       "      <th>loudness</th>\n",
       "      <th>mode</th>\n",
       "      <th>speechiness</th>\n",
       "      <th>tempo</th>\n",
       "      <th>time_signature</th>\n",
       "      <th>valence</th>\n",
       "    </tr>\n",
       "  </thead>\n",
       "  <tbody>\n",
       "    <tr>\n",
       "      <th>0</th>\n",
       "      <td>Dance</td>\n",
       "      <td>Ariana Grande</td>\n",
       "      <td>break up with your girlfriend, i'm bored</td>\n",
       "      <td>4kV4N9D1iKVxx1KLvtTpjS</td>\n",
       "      <td>99</td>\n",
       "      <td>0.0421</td>\n",
       "      <td>0.726</td>\n",
       "      <td>190440</td>\n",
       "      <td>0.554</td>\n",
       "      <td>0.000000</td>\n",
       "      <td>F</td>\n",
       "      <td>0.1060</td>\n",
       "      <td>-5.290</td>\n",
       "      <td>Minor</td>\n",
       "      <td>0.0917</td>\n",
       "      <td>169.999</td>\n",
       "      <td>4/4</td>\n",
       "      <td>0.335</td>\n",
       "    </tr>\n",
       "    <tr>\n",
       "      <th>1</th>\n",
       "      <td>Dance</td>\n",
       "      <td>Ariana Grande</td>\n",
       "      <td>7 rings</td>\n",
       "      <td>14msK75pk3pA33pzPVNtBF</td>\n",
       "      <td>100</td>\n",
       "      <td>0.5780</td>\n",
       "      <td>0.725</td>\n",
       "      <td>178640</td>\n",
       "      <td>0.321</td>\n",
       "      <td>0.000000</td>\n",
       "      <td>C#</td>\n",
       "      <td>0.0884</td>\n",
       "      <td>-10.744</td>\n",
       "      <td>Minor</td>\n",
       "      <td>0.3230</td>\n",
       "      <td>70.142</td>\n",
       "      <td>4/4</td>\n",
       "      <td>0.319</td>\n",
       "    </tr>\n",
       "    <tr>\n",
       "      <th>2</th>\n",
       "      <td>Dance</td>\n",
       "      <td>Halsey</td>\n",
       "      <td>Without Me</td>\n",
       "      <td>5p7ujcrUXASCNwRaWNHR1C</td>\n",
       "      <td>97</td>\n",
       "      <td>0.2970</td>\n",
       "      <td>0.752</td>\n",
       "      <td>201661</td>\n",
       "      <td>0.488</td>\n",
       "      <td>0.000009</td>\n",
       "      <td>F#</td>\n",
       "      <td>0.0936</td>\n",
       "      <td>-7.050</td>\n",
       "      <td>Major</td>\n",
       "      <td>0.0705</td>\n",
       "      <td>136.041</td>\n",
       "      <td>4/4</td>\n",
       "      <td>0.533</td>\n",
       "    </tr>\n",
       "    <tr>\n",
       "      <th>3</th>\n",
       "      <td>Dance</td>\n",
       "      <td>Ariana Grande</td>\n",
       "      <td>needy</td>\n",
       "      <td>1TEL6MlSSVLSdhOSddidlJ</td>\n",
       "      <td>92</td>\n",
       "      <td>0.7800</td>\n",
       "      <td>0.647</td>\n",
       "      <td>171573</td>\n",
       "      <td>0.309</td>\n",
       "      <td>0.000007</td>\n",
       "      <td>G</td>\n",
       "      <td>0.2020</td>\n",
       "      <td>-7.948</td>\n",
       "      <td>Minor</td>\n",
       "      <td>0.0366</td>\n",
       "      <td>87.045</td>\n",
       "      <td>4/4</td>\n",
       "      <td>0.195</td>\n",
       "    </tr>\n",
       "    <tr>\n",
       "      <th>4</th>\n",
       "      <td>Dance</td>\n",
       "      <td>Ariana Grande</td>\n",
       "      <td>NASA</td>\n",
       "      <td>4uTvPEr01pjTbZgl7jcKBD</td>\n",
       "      <td>91</td>\n",
       "      <td>0.4510</td>\n",
       "      <td>0.747</td>\n",
       "      <td>182000</td>\n",
       "      <td>0.458</td>\n",
       "      <td>0.000000</td>\n",
       "      <td>F#</td>\n",
       "      <td>0.2520</td>\n",
       "      <td>-6.891</td>\n",
       "      <td>Major</td>\n",
       "      <td>0.3030</td>\n",
       "      <td>75.029</td>\n",
       "      <td>4/4</td>\n",
       "      <td>0.470</td>\n",
       "    </tr>\n",
       "  </tbody>\n",
       "</table>\n",
       "</div>"
      ],
      "text/plain": [
       "   genre    artist_name                                track_name  \\\n",
       "0  Dance  Ariana Grande  break up with your girlfriend, i'm bored   \n",
       "1  Dance  Ariana Grande                                   7 rings   \n",
       "2  Dance         Halsey                                Without Me   \n",
       "3  Dance  Ariana Grande                                     needy   \n",
       "4  Dance  Ariana Grande                                      NASA   \n",
       "\n",
       "                 track_id  popularity  acousticness  danceability  \\\n",
       "0  4kV4N9D1iKVxx1KLvtTpjS          99        0.0421         0.726   \n",
       "1  14msK75pk3pA33pzPVNtBF         100        0.5780         0.725   \n",
       "2  5p7ujcrUXASCNwRaWNHR1C          97        0.2970         0.752   \n",
       "3  1TEL6MlSSVLSdhOSddidlJ          92        0.7800         0.647   \n",
       "4  4uTvPEr01pjTbZgl7jcKBD          91        0.4510         0.747   \n",
       "\n",
       "   duration_ms  energy  instrumentalness key  liveness  loudness   mode  \\\n",
       "0       190440   0.554          0.000000   F    0.1060    -5.290  Minor   \n",
       "1       178640   0.321          0.000000  C#    0.0884   -10.744  Minor   \n",
       "2       201661   0.488          0.000009  F#    0.0936    -7.050  Major   \n",
       "3       171573   0.309          0.000007   G    0.2020    -7.948  Minor   \n",
       "4       182000   0.458          0.000000  F#    0.2520    -6.891  Major   \n",
       "\n",
       "   speechiness    tempo time_signature  valence  \n",
       "0       0.0917  169.999            4/4    0.335  \n",
       "1       0.3230   70.142            4/4    0.319  \n",
       "2       0.0705  136.041            4/4    0.533  \n",
       "3       0.0366   87.045            4/4    0.195  \n",
       "4       0.3030   75.029            4/4    0.470  "
      ]
     },
     "execution_count": 396,
     "metadata": {},
     "output_type": "execute_result"
    }
   ],
   "source": [
    "genres_df = pd.read_csv('datasets/four_genres.csv')\n",
    "genres_df.head()"
   ]
  },
  {
   "cell_type": "markdown",
   "id": "78866a2e",
   "metadata": {},
   "source": [
    "## Exploration"
   ]
  },
  {
   "cell_type": "markdown",
   "id": "ce5c4330",
   "metadata": {},
   "source": [
    "  "
   ]
  },
  {
   "cell_type": "markdown",
   "id": "717f26e7",
   "metadata": {},
   "source": [
    "There are 18 columns, no null-values. Non numeric columns include genre, artist_name, track_name, track_id, key, mode, and time_signature. Some of those (such as track_id) are useless to predict genre. Others, like mode, can be converted to numeric form."
   ]
  },
  {
   "cell_type": "code",
   "execution_count": 346,
   "id": "2ffd53dc",
   "metadata": {},
   "outputs": [
    {
     "name": "stdout",
     "output_type": "stream",
     "text": [
      "<class 'pandas.core.frame.DataFrame'>\n",
      "RangeIndex: 36670 entries, 0 to 36669\n",
      "Data columns (total 18 columns):\n",
      " #   Column            Non-Null Count  Dtype  \n",
      "---  ------            --------------  -----  \n",
      " 0   genre             36670 non-null  object \n",
      " 1   artist_name       36670 non-null  object \n",
      " 2   track_name        36670 non-null  object \n",
      " 3   track_id          36670 non-null  object \n",
      " 4   popularity        36670 non-null  int64  \n",
      " 5   acousticness      36670 non-null  float64\n",
      " 6   danceability      36670 non-null  float64\n",
      " 7   duration_ms       36670 non-null  int64  \n",
      " 8   energy            36670 non-null  float64\n",
      " 9   instrumentalness  36670 non-null  float64\n",
      " 10  key               36670 non-null  object \n",
      " 11  liveness          36670 non-null  float64\n",
      " 12  loudness          36670 non-null  float64\n",
      " 13  mode              36670 non-null  object \n",
      " 14  speechiness       36670 non-null  float64\n",
      " 15  tempo             36670 non-null  float64\n",
      " 16  time_signature    36670 non-null  object \n",
      " 17  valence           36670 non-null  float64\n",
      "dtypes: float64(9), int64(2), object(7)\n",
      "memory usage: 5.0+ MB\n"
     ]
    }
   ],
   "source": [
    "genres_df.info()"
   ]
  },
  {
   "cell_type": "markdown",
   "id": "7a773169",
   "metadata": {},
   "source": [
    "#### Non-numeric features."
   ]
  },
  {
   "cell_type": "markdown",
   "id": "98911333",
   "metadata": {},
   "source": [
    "There are seven non numerics columns. Four of them identify the song name, song id, artist, artist, and genre. The other three are features of the song: tempo, key, and mode."
   ]
  },
  {
   "cell_type": "code",
   "execution_count": 347,
   "id": "3ffb5daf",
   "metadata": {},
   "outputs": [
    {
     "data": {
      "text/html": [
       "<div>\n",
       "<style scoped>\n",
       "    .dataframe tbody tr th:only-of-type {\n",
       "        vertical-align: middle;\n",
       "    }\n",
       "\n",
       "    .dataframe tbody tr th {\n",
       "        vertical-align: top;\n",
       "    }\n",
       "\n",
       "    .dataframe thead th {\n",
       "        text-align: right;\n",
       "    }\n",
       "</style>\n",
       "<table border=\"1\" class=\"dataframe\">\n",
       "  <thead>\n",
       "    <tr style=\"text-align: right;\">\n",
       "      <th></th>\n",
       "      <th>track_name</th>\n",
       "      <th>artist_name</th>\n",
       "      <th>track_id</th>\n",
       "      <th>genre</th>\n",
       "    </tr>\n",
       "  </thead>\n",
       "  <tbody>\n",
       "    <tr>\n",
       "      <th>0</th>\n",
       "      <td>break up with your girlfriend, i'm bored</td>\n",
       "      <td>Ariana Grande</td>\n",
       "      <td>4kV4N9D1iKVxx1KLvtTpjS</td>\n",
       "      <td>Dance</td>\n",
       "    </tr>\n",
       "    <tr>\n",
       "      <th>1</th>\n",
       "      <td>7 rings</td>\n",
       "      <td>Ariana Grande</td>\n",
       "      <td>14msK75pk3pA33pzPVNtBF</td>\n",
       "      <td>Dance</td>\n",
       "    </tr>\n",
       "    <tr>\n",
       "      <th>2</th>\n",
       "      <td>Without Me</td>\n",
       "      <td>Halsey</td>\n",
       "      <td>5p7ujcrUXASCNwRaWNHR1C</td>\n",
       "      <td>Dance</td>\n",
       "    </tr>\n",
       "  </tbody>\n",
       "</table>\n",
       "</div>"
      ],
      "text/plain": [
       "                                 track_name    artist_name  \\\n",
       "0  break up with your girlfriend, i'm bored  Ariana Grande   \n",
       "1                                   7 rings  Ariana Grande   \n",
       "2                                Without Me         Halsey   \n",
       "\n",
       "                 track_id  genre  \n",
       "0  4kV4N9D1iKVxx1KLvtTpjS  Dance  \n",
       "1  14msK75pk3pA33pzPVNtBF  Dance  \n",
       "2  5p7ujcrUXASCNwRaWNHR1C  Dance  "
      ]
     },
     "execution_count": 347,
     "metadata": {},
     "output_type": "execute_result"
    }
   ],
   "source": [
    "genres_df[['track_name', 'artist_name', 'track_id', 'genre']].head(3)"
   ]
  },
  {
   "cell_type": "code",
   "execution_count": 348,
   "id": "085b8f44",
   "metadata": {},
   "outputs": [
    {
     "data": {
      "text/html": [
       "<div>\n",
       "<style scoped>\n",
       "    .dataframe tbody tr th:only-of-type {\n",
       "        vertical-align: middle;\n",
       "    }\n",
       "\n",
       "    .dataframe tbody tr th {\n",
       "        vertical-align: top;\n",
       "    }\n",
       "\n",
       "    .dataframe thead th {\n",
       "        text-align: right;\n",
       "    }\n",
       "</style>\n",
       "<table border=\"1\" class=\"dataframe\">\n",
       "  <thead>\n",
       "    <tr style=\"text-align: right;\">\n",
       "      <th></th>\n",
       "      <th>tempo</th>\n",
       "      <th>key</th>\n",
       "      <th>mode</th>\n",
       "    </tr>\n",
       "  </thead>\n",
       "  <tbody>\n",
       "    <tr>\n",
       "      <th>0</th>\n",
       "      <td>169.999</td>\n",
       "      <td>F</td>\n",
       "      <td>Minor</td>\n",
       "    </tr>\n",
       "    <tr>\n",
       "      <th>1</th>\n",
       "      <td>70.142</td>\n",
       "      <td>C#</td>\n",
       "      <td>Minor</td>\n",
       "    </tr>\n",
       "    <tr>\n",
       "      <th>2</th>\n",
       "      <td>136.041</td>\n",
       "      <td>F#</td>\n",
       "      <td>Major</td>\n",
       "    </tr>\n",
       "  </tbody>\n",
       "</table>\n",
       "</div>"
      ],
      "text/plain": [
       "     tempo key   mode\n",
       "0  169.999   F  Minor\n",
       "1   70.142  C#  Minor\n",
       "2  136.041  F#  Major"
      ]
     },
     "execution_count": 348,
     "metadata": {},
     "output_type": "execute_result"
    }
   ],
   "source": [
    "genres_df[['tempo', 'key', 'mode']].head(3)"
   ]
  },
  {
   "cell_type": "markdown",
   "id": "265dcfa1",
   "metadata": {},
   "source": [
    "#### Mode column: "
   ]
  },
  {
   "cell_type": "markdown",
   "id": "1fa22630",
   "metadata": {},
   "source": [
    "Mode has two categories: Major and Minor, which could be transformed to 1 for Major and 0 for Minor for predictions."
   ]
  },
  {
   "cell_type": "code",
   "execution_count": 349,
   "id": "3b28ba79",
   "metadata": {},
   "outputs": [
    {
     "data": {
      "image/png": "[encoded data removed]",
      "text/plain": [
       "<Figure size 432x288 with 1 Axes>"
      ]
     },
     "metadata": {
      "needs_background": "light"
     },
     "output_type": "display_data"
    }
   ],
   "source": [
    "sns.countplot(data=genres_df, x='mode', palette='Set2')\n",
    "plt.title('Major vs Minor mode', fontsize=16);"
   ]
  },
  {
   "cell_type": "markdown",
   "id": "8b5d8927",
   "metadata": {},
   "source": [
    "#### TIme signature column: "
   ]
  },
  {
   "cell_type": "markdown",
   "id": "30fb5f37",
   "metadata": {},
   "source": [
    "The most common time signature by far is 4/4. 3/4 has about 5000 counts, and the others are rare. 4/4 is more balanced across genres, while the others show more counts for classical and genres. It might be an idea to transform these categories in a scale from 0 (4/4 most common) to 4."
   ]
  },
  {
   "cell_type": "code",
   "execution_count": 350,
   "id": "18a0660e",
   "metadata": {},
   "outputs": [
    {
     "data": {
      "image/png": "[encoded data removed]",
      "text/plain": [
       "<Figure size 432x288 with 1 Axes>"
      ]
     },
     "metadata": {
      "needs_background": "light"
     },
     "output_type": "display_data"
    }
   ],
   "source": [
    "sns.countplot(data=genres_df, x='time_signature',palette='Set2')\n",
    "plt.title('Time signature total count', fontsize=16);"
   ]
  },
  {
   "cell_type": "code",
   "execution_count": 351,
   "id": "1974625a",
   "metadata": {},
   "outputs": [
    {
     "data": {
      "image/png": "[encoded data removed]",
      "text/plain": [
       "<Figure size 432x288 with 1 Axes>"
      ]
     },
     "metadata": {
      "needs_background": "light"
     },
     "output_type": "display_data"
    }
   ],
   "source": [
    "sns.countplot(data=genres_df[genres_df['time_signature']=='4/4'], x='time_signature', hue='genre',palette='Set2')\n",
    "plt.legend(bbox_to_anchor=(1.05, 1.0), loc='upper left')\n",
    "plt.title('Time signature 4/4 across genres', fontsize=16);"
   ]
  },
  {
   "cell_type": "code",
   "execution_count": 352,
   "id": "a244d7f7",
   "metadata": {},
   "outputs": [
    {
     "data": {
      "image/png": "[encoded data removed]",
      "text/plain": [
       "<Figure size 432x288 with 1 Axes>"
      ]
     },
     "metadata": {
      "needs_background": "light"
     },
     "output_type": "display_data"
    }
   ],
   "source": [
    "sns.countplot(data=genres_df[genres_df['time_signature']!='4/4'], x='time_signature', hue='genre',palette='Set2')\n",
    "plt.title('Time signature acroos genres (4/4 excluded)', fontsize=16);"
   ]
  },
  {
   "cell_type": "markdown",
   "id": "5e04151d",
   "metadata": {},
   "source": [
    "#### Key column:"
   ]
  },
  {
   "cell_type": "markdown",
   "id": "fd837201",
   "metadata": {},
   "source": [
    "There are 12 keys: 'A' 'A#' 'B' 'C' 'C#' 'D' 'D#' 'E' 'F' 'F#' 'G' 'G#'. It shows some interesting patterns (notably, Jazz have more counts in F and A#), but it is probably better to drop this column for the purpose of this analysis, as there is no direct way to convert these keys to numeric values that make sense."
   ]
  },
  {
   "cell_type": "code",
   "execution_count": 353,
   "id": "a20c93e7",
   "metadata": {},
   "outputs": [
    {
     "data": {
      "image/png": "[encoded data removed]",
      "text/plain": [
       "<Figure size 432x288 with 1 Axes>"
      ]
     },
     "metadata": {
      "needs_background": "light"
     },
     "output_type": "display_data"
    }
   ],
   "source": [
    "sns.countplot(data=genres_df, x= 'key', hue='genre')\n",
    "plt.title('Keys across genres', fontsize=16);"
   ]
  },
  {
   "cell_type": "code",
   "execution_count": 354,
   "id": "d6937acd",
   "metadata": {},
   "outputs": [
    {
     "name": "stdout",
     "output_type": "stream",
     "text": [
      "['A' 'A#' 'B' 'C' 'C#' 'D' 'D#' 'E' 'F' 'F#' 'G' 'G#']\n"
     ]
    }
   ],
   "source": [
    "print(np.sort(genres_df['key'].unique()))"
   ]
  },
  {
   "cell_type": "markdown",
   "id": "2b023feb",
   "metadata": {},
   "source": [
    "#### Numeric colums:"
   ]
  },
  {
   "cell_type": "markdown",
   "id": "f8fd4cae",
   "metadata": {},
   "source": [
    "Below we can see historgrams of some of the numeric colums across genres. In ascpects like duration and tempo the distribution appears similar for different genres, while popularity and energy show more variation. It is interesting that the bigger differences are shown in more 'subjective' or 'human related' values, rather than the mathematical values of tempo and duration. On the former columns, dance songs show a high peak around tempo 145 (probably the ideal tempo to dance, not to slow, not too fast), and that the duration of jazz and classical songs varies more."
   ]
  },
  {
   "cell_type": "code",
   "execution_count": 355,
   "id": "5e0ebdcd",
   "metadata": {},
   "outputs": [
    {
     "data": {
      "image/png": "[encoded data removed]",
      "text/plain": [
       "<Figure size 1440x360 with 4 Axes>"
      ]
     },
     "metadata": {
      "needs_background": "light"
     },
     "output_type": "display_data"
    }
   ],
   "source": [
    "G=sns.displot(data=genres_df, y='tempo', col='genre')\n",
    "G.fig.subplots_adjust(top=.8)\n",
    "G.fig.suptitle('Tempo', fontsize=20);"
   ]
  },
  {
   "cell_type": "code",
   "execution_count": 356,
   "id": "b3333982",
   "metadata": {},
   "outputs": [
    {
     "data": {
      "image/png": "[encoded data removed]",
      "text/plain": [
       "<Figure size 1440x360 with 4 Axes>"
      ]
     },
     "metadata": {
      "needs_background": "light"
     },
     "output_type": "display_data"
    }
   ],
   "source": [
    "G = sns.displot(data=genres_df, y='duration_ms', col='genre')\n",
    "G.fig.subplots_adjust(top=.8)\n",
    "G.fig.suptitle('Duration (ms)', fontsize=20);"
   ]
  },
  {
   "cell_type": "code",
   "execution_count": 357,
   "id": "247f4bca",
   "metadata": {},
   "outputs": [
    {
     "data": {
      "image/png": "[encoded data removed]",
      "text/plain": [
       "<Figure size 1440x360 with 4 Axes>"
      ]
     },
     "metadata": {
      "needs_background": "light"
     },
     "output_type": "display_data"
    }
   ],
   "source": [
    "G = sns.displot(data=genres_df, y='popularity', col='genre')\n",
    "G.fig.subplots_adjust(top=.8)\n",
    "G.fig.suptitle('Popularity', fontsize=20);"
   ]
  },
  {
   "cell_type": "code",
   "execution_count": 358,
   "id": "e0d8558e",
   "metadata": {},
   "outputs": [
    {
     "data": {
      "image/png": "[encoded data removed]",
      "text/plain": [
       "<Figure size 1440x360 with 4 Axes>"
      ]
     },
     "metadata": {
      "needs_background": "light"
     },
     "output_type": "display_data"
    }
   ],
   "source": [
    "G = sns.displot(data=genres_df, y='energy', col='genre')\n",
    "G.fig.subplots_adjust(top=.8)\n",
    "G.fig.suptitle('Energy', fontsize=20);"
   ]
  },
  {
   "cell_type": "markdown",
   "id": "682b8d52",
   "metadata": {},
   "source": [
    "#### Correlation of numeric columns:"
   ]
  },
  {
   "cell_type": "markdown",
   "id": "d7b3f219",
   "metadata": {},
   "source": [
    "The only columns highly correlated are loudness and energy. It might be  a good idea to drop one of those."
   ]
  },
  {
   "cell_type": "code",
   "execution_count": 359,
   "id": "dae6216b",
   "metadata": {},
   "outputs": [
    {
     "data": {
      "text/html": [
       "<style type=\"text/css\">\n",
       "#T_ed401_row0_col0, #T_ed401_row1_col1, #T_ed401_row2_col2, #T_ed401_row3_col3, #T_ed401_row4_col4, #T_ed401_row5_col5, #T_ed401_row6_col6, #T_ed401_row7_col7, #T_ed401_row8_col8, #T_ed401_row9_col9, #T_ed401_row10_col10 {\n",
       "  background-color: #023858;\n",
       "  color: #f1f1f1;\n",
       "}\n",
       "#T_ed401_row0_col1, #T_ed401_row3_col2, #T_ed401_row9_col3, #T_ed401_row10_col5 {\n",
       "  background-color: #e4e1ef;\n",
       "  color: #000000;\n",
       "}\n",
       "#T_ed401_row0_col2 {\n",
       "  background-color: #4295c3;\n",
       "  color: #f1f1f1;\n",
       "}\n",
       "#T_ed401_row0_col3 {\n",
       "  background-color: #f5eff6;\n",
       "  color: #000000;\n",
       "}\n",
       "#T_ed401_row0_col4 {\n",
       "  background-color: #0570b0;\n",
       "  color: #f1f1f1;\n",
       "}\n",
       "#T_ed401_row0_col5, #T_ed401_row5_col10 {\n",
       "  background-color: #f4edf6;\n",
       "  color: #000000;\n",
       "}\n",
       "#T_ed401_row0_col6 {\n",
       "  background-color: #f0eaf4;\n",
       "  color: #000000;\n",
       "}\n",
       "#T_ed401_row0_col7, #T_ed401_row2_col7 {\n",
       "  background-color: #056ead;\n",
       "  color: #f1f1f1;\n",
       "}\n",
       "#T_ed401_row0_col8 {\n",
       "  background-color: #e7e3f0;\n",
       "  color: #000000;\n",
       "}\n",
       "#T_ed401_row0_col9, #T_ed401_row6_col0 {\n",
       "  background-color: #afc1dd;\n",
       "  color: #000000;\n",
       "}\n",
       "#T_ed401_row0_col10 {\n",
       "  background-color: #6da6cd;\n",
       "  color: #f1f1f1;\n",
       "}\n",
       "#T_ed401_row1_col0, #T_ed401_row1_col2, #T_ed401_row1_col4, #T_ed401_row1_col7, #T_ed401_row1_col8, #T_ed401_row1_col9, #T_ed401_row1_col10, #T_ed401_row2_col3, #T_ed401_row4_col1, #T_ed401_row5_col6, #T_ed401_row5_col8, #T_ed401_row7_col5 {\n",
       "  background-color: #fff7fb;\n",
       "  color: #000000;\n",
       "}\n",
       "#T_ed401_row1_col3 {\n",
       "  background-color: #b4c4df;\n",
       "  color: #000000;\n",
       "}\n",
       "#T_ed401_row1_col5 {\n",
       "  background-color: #1c7fb8;\n",
       "  color: #f1f1f1;\n",
       "}\n",
       "#T_ed401_row1_col6, #T_ed401_row3_col8 {\n",
       "  background-color: #fbf3f9;\n",
       "  color: #000000;\n",
       "}\n",
       "#T_ed401_row2_col0 {\n",
       "  background-color: #3d93c2;\n",
       "  color: #f1f1f1;\n",
       "}\n",
       "#T_ed401_row2_col1, #T_ed401_row5_col4 {\n",
       "  background-color: #dedcec;\n",
       "  color: #000000;\n",
       "}\n",
       "#T_ed401_row2_col4, #T_ed401_row5_col1 {\n",
       "  background-color: #0c74b2;\n",
       "  color: #f1f1f1;\n",
       "}\n",
       "#T_ed401_row2_col5 {\n",
       "  background-color: #eae6f1;\n",
       "  color: #000000;\n",
       "}\n",
       "#T_ed401_row2_col6 {\n",
       "  background-color: #eee8f3;\n",
       "  color: #000000;\n",
       "}\n",
       "#T_ed401_row2_col8 {\n",
       "  background-color: #c2cbe2;\n",
       "  color: #000000;\n",
       "}\n",
       "#T_ed401_row2_col9, #T_ed401_row4_col8 {\n",
       "  background-color: #cacee5;\n",
       "  color: #000000;\n",
       "}\n",
       "#T_ed401_row2_col10, #T_ed401_row10_col4 {\n",
       "  background-color: #056faf;\n",
       "  color: #f1f1f1;\n",
       "}\n",
       "#T_ed401_row3_col0 {\n",
       "  background-color: #d2d3e7;\n",
       "  color: #000000;\n",
       "}\n",
       "#T_ed401_row3_col1 {\n",
       "  background-color: #5ea0ca;\n",
       "  color: #f1f1f1;\n",
       "}\n",
       "#T_ed401_row3_col4, #T_ed401_row8_col0 {\n",
       "  background-color: #a5bddb;\n",
       "  color: #000000;\n",
       "}\n",
       "#T_ed401_row3_col5 {\n",
       "  background-color: #78abd0;\n",
       "  color: #f1f1f1;\n",
       "}\n",
       "#T_ed401_row3_col6, #T_ed401_row8_col3 {\n",
       "  background-color: #ede7f2;\n",
       "  color: #000000;\n",
       "}\n",
       "#T_ed401_row3_col7 {\n",
       "  background-color: #b1c2de;\n",
       "  color: #000000;\n",
       "}\n",
       "#T_ed401_row3_col9, #T_ed401_row9_col6 {\n",
       "  background-color: #e5e1ef;\n",
       "  color: #000000;\n",
       "}\n",
       "#T_ed401_row3_col10 {\n",
       "  background-color: #e9e5f1;\n",
       "  color: #000000;\n",
       "}\n",
       "#T_ed401_row4_col0 {\n",
       "  background-color: #187cb6;\n",
       "  color: #f1f1f1;\n",
       "}\n",
       "#T_ed401_row4_col2 {\n",
       "  background-color: #2484ba;\n",
       "  color: #f1f1f1;\n",
       "}\n",
       "#T_ed401_row4_col3 {\n",
       "  background-color: #f2ecf5;\n",
       "  color: #000000;\n",
       "}\n",
       "#T_ed401_row4_col5 {\n",
       "  background-color: #f8f1f8;\n",
       "  color: #000000;\n",
       "}\n",
       "#T_ed401_row4_col6 {\n",
       "  background-color: #ced0e6;\n",
       "  color: #000000;\n",
       "}\n",
       "#T_ed401_row4_col7 {\n",
       "  background-color: #034b76;\n",
       "  color: #f1f1f1;\n",
       "}\n",
       "#T_ed401_row4_col9 {\n",
       "  background-color: #8cb3d5;\n",
       "  color: #000000;\n",
       "}\n",
       "#T_ed401_row4_col10 {\n",
       "  background-color: #2081b9;\n",
       "  color: #f1f1f1;\n",
       "}\n",
       "#T_ed401_row5_col0, #T_ed401_row5_col9 {\n",
       "  background-color: #f6eff7;\n",
       "  color: #000000;\n",
       "}\n",
       "#T_ed401_row5_col2 {\n",
       "  background-color: #f1ebf5;\n",
       "  color: #000000;\n",
       "}\n",
       "#T_ed401_row5_col3 {\n",
       "  background-color: #acc0dd;\n",
       "  color: #000000;\n",
       "}\n",
       "#T_ed401_row5_col7 {\n",
       "  background-color: #eee9f3;\n",
       "  color: #000000;\n",
       "}\n",
       "#T_ed401_row6_col1 {\n",
       "  background-color: #99b8d8;\n",
       "  color: #000000;\n",
       "}\n",
       "#T_ed401_row6_col2 {\n",
       "  background-color: #b3c3de;\n",
       "  color: #000000;\n",
       "}\n",
       "#T_ed401_row6_col3 {\n",
       "  background-color: #d8d7e9;\n",
       "  color: #000000;\n",
       "}\n",
       "#T_ed401_row6_col4, #T_ed401_row8_col4, #T_ed401_row10_col0 {\n",
       "  background-color: #5c9fc9;\n",
       "  color: #f1f1f1;\n",
       "}\n",
       "#T_ed401_row6_col5 {\n",
       "  background-color: #c4cbe3;\n",
       "  color: #000000;\n",
       "}\n",
       "#T_ed401_row6_col7 {\n",
       "  background-color: #6fa7ce;\n",
       "  color: #f1f1f1;\n",
       "}\n",
       "#T_ed401_row6_col8 {\n",
       "  background-color: #d4d4e8;\n",
       "  color: #000000;\n",
       "}\n",
       "#T_ed401_row6_col9 {\n",
       "  background-color: #d2d2e7;\n",
       "  color: #000000;\n",
       "}\n",
       "#T_ed401_row6_col10, #T_ed401_row10_col9 {\n",
       "  background-color: #adc1dd;\n",
       "  color: #000000;\n",
       "}\n",
       "#T_ed401_row7_col0 {\n",
       "  background-color: #0f76b3;\n",
       "  color: #f1f1f1;\n",
       "}\n",
       "#T_ed401_row7_col1 {\n",
       "  background-color: #f9f2f8;\n",
       "  color: #000000;\n",
       "}\n",
       "#T_ed401_row7_col2, #T_ed401_row10_col7 {\n",
       "  background-color: #1278b4;\n",
       "  color: #f1f1f1;\n",
       "}\n",
       "#T_ed401_row7_col3 {\n",
       "  background-color: #f4eef6;\n",
       "  color: #000000;\n",
       "}\n",
       "#T_ed401_row7_col4 {\n",
       "  background-color: #034a74;\n",
       "  color: #f1f1f1;\n",
       "}\n",
       "#T_ed401_row7_col6, #T_ed401_row10_col1 {\n",
       "  background-color: #d6d6e9;\n",
       "  color: #000000;\n",
       "}\n",
       "#T_ed401_row7_col8 {\n",
       "  background-color: #d1d2e6;\n",
       "  color: #000000;\n",
       "}\n",
       "#T_ed401_row7_col9 {\n",
       "  background-color: #93b5d6;\n",
       "  color: #000000;\n",
       "}\n",
       "#T_ed401_row7_col10 {\n",
       "  background-color: #2d8abd;\n",
       "  color: #f1f1f1;\n",
       "}\n",
       "#T_ed401_row8_col1, #T_ed401_row9_col2 {\n",
       "  background-color: #a1bbda;\n",
       "  color: #000000;\n",
       "}\n",
       "#T_ed401_row8_col2 {\n",
       "  background-color: #83afd3;\n",
       "  color: #f1f1f1;\n",
       "}\n",
       "#T_ed401_row8_col5 {\n",
       "  background-color: #c5cce3;\n",
       "  color: #000000;\n",
       "}\n",
       "#T_ed401_row8_col6 {\n",
       "  background-color: #d5d5e8;\n",
       "  color: #000000;\n",
       "}\n",
       "#T_ed401_row8_col7 {\n",
       "  background-color: #69a5cc;\n",
       "  color: #f1f1f1;\n",
       "}\n",
       "#T_ed401_row8_col9 {\n",
       "  background-color: #c9cee4;\n",
       "  color: #000000;\n",
       "}\n",
       "#T_ed401_row8_col10 {\n",
       "  background-color: #9ebad9;\n",
       "  color: #000000;\n",
       "}\n",
       "#T_ed401_row9_col0 {\n",
       "  background-color: #80aed2;\n",
       "  color: #f1f1f1;\n",
       "}\n",
       "#T_ed401_row9_col1 {\n",
       "  background-color: #b8c6e0;\n",
       "  color: #000000;\n",
       "}\n",
       "#T_ed401_row9_col4 {\n",
       "  background-color: #3991c1;\n",
       "  color: #f1f1f1;\n",
       "}\n",
       "#T_ed401_row9_col5 {\n",
       "  background-color: #d0d1e6;\n",
       "  color: #000000;\n",
       "}\n",
       "#T_ed401_row9_col7 {\n",
       "  background-color: #4697c4;\n",
       "  color: #f1f1f1;\n",
       "}\n",
       "#T_ed401_row9_col8 {\n",
       "  background-color: #dddbec;\n",
       "  color: #000000;\n",
       "}\n",
       "#T_ed401_row9_col10 {\n",
       "  background-color: #8fb4d6;\n",
       "  color: #000000;\n",
       "}\n",
       "#T_ed401_row10_col2 {\n",
       "  background-color: #056dac;\n",
       "  color: #f1f1f1;\n",
       "}\n",
       "#T_ed401_row10_col3 {\n",
       "  background-color: #fdf5fa;\n",
       "  color: #000000;\n",
       "}\n",
       "#T_ed401_row10_col6 {\n",
       "  background-color: #e0deed;\n",
       "  color: #000000;\n",
       "}\n",
       "#T_ed401_row10_col8 {\n",
       "  background-color: #d3d4e7;\n",
       "  color: #000000;\n",
       "}\n",
       "</style>\n",
       "<table id=\"T_ed401\">\n",
       "  <thead>\n",
       "    <tr>\n",
       "      <th class=\"blank level0\" >&nbsp;</th>\n",
       "      <th id=\"T_ed401_level0_col0\" class=\"col_heading level0 col0\" >popularity</th>\n",
       "      <th id=\"T_ed401_level0_col1\" class=\"col_heading level0 col1\" >acousticness</th>\n",
       "      <th id=\"T_ed401_level0_col2\" class=\"col_heading level0 col2\" >danceability</th>\n",
       "      <th id=\"T_ed401_level0_col3\" class=\"col_heading level0 col3\" >duration_ms</th>\n",
       "      <th id=\"T_ed401_level0_col4\" class=\"col_heading level0 col4\" >energy</th>\n",
       "      <th id=\"T_ed401_level0_col5\" class=\"col_heading level0 col5\" >instrumentalness</th>\n",
       "      <th id=\"T_ed401_level0_col6\" class=\"col_heading level0 col6\" >liveness</th>\n",
       "      <th id=\"T_ed401_level0_col7\" class=\"col_heading level0 col7\" >loudness</th>\n",
       "      <th id=\"T_ed401_level0_col8\" class=\"col_heading level0 col8\" >speechiness</th>\n",
       "      <th id=\"T_ed401_level0_col9\" class=\"col_heading level0 col9\" >tempo</th>\n",
       "      <th id=\"T_ed401_level0_col10\" class=\"col_heading level0 col10\" >valence</th>\n",
       "    </tr>\n",
       "  </thead>\n",
       "  <tbody>\n",
       "    <tr>\n",
       "      <th id=\"T_ed401_level0_row0\" class=\"row_heading level0 row0\" >popularity</th>\n",
       "      <td id=\"T_ed401_row0_col0\" class=\"data row0 col0\" >1.000000</td>\n",
       "      <td id=\"T_ed401_row0_col1\" class=\"data row0 col1\" >-0.557638</td>\n",
       "      <td id=\"T_ed401_row0_col2\" class=\"data row0 col2\" >0.395703</td>\n",
       "      <td id=\"T_ed401_row0_col3\" class=\"data row0 col3\" >-0.181870</td>\n",
       "      <td id=\"T_ed401_row0_col4\" class=\"data row0 col4\" >0.533840</td>\n",
       "      <td id=\"T_ed401_row0_col5\" class=\"data row0 col5\" >-0.463405</td>\n",
       "      <td id=\"T_ed401_row0_col6\" class=\"data row0 col6\" >-0.015336</td>\n",
       "      <td id=\"T_ed401_row0_col7\" class=\"data row0 col7\" >0.568866</td>\n",
       "      <td id=\"T_ed401_row0_col8\" class=\"data row0 col8\" >0.027777</td>\n",
       "      <td id=\"T_ed401_row0_col9\" class=\"data row0 col9\" >0.178003</td>\n",
       "      <td id=\"T_ed401_row0_col10\" class=\"data row0 col10\" >0.297063</td>\n",
       "    </tr>\n",
       "    <tr>\n",
       "      <th id=\"T_ed401_level0_row1\" class=\"row_heading level0 row1\" >acousticness</th>\n",
       "      <td id=\"T_ed401_row1_col0\" class=\"data row1 col0\" >-0.557638</td>\n",
       "      <td id=\"T_ed401_row1_col1\" class=\"data row1 col1\" >1.000000</td>\n",
       "      <td id=\"T_ed401_row1_col2\" class=\"data row1 col2\" >-0.509820</td>\n",
       "      <td id=\"T_ed401_row1_col3\" class=\"data row1 col3\" >0.155196</td>\n",
       "      <td id=\"T_ed401_row1_col4\" class=\"data row1 col4\" >-0.859553</td>\n",
       "      <td id=\"T_ed401_row1_col5\" class=\"data row1 col5\" >0.505168</td>\n",
       "      <td id=\"T_ed401_row1_col6\" class=\"data row1 col6\" >-0.100194</td>\n",
       "      <td id=\"T_ed401_row1_col7\" class=\"data row1 col7\" >-0.785547</td>\n",
       "      <td id=\"T_ed401_row1_col8\" class=\"data row1 col8\" >-0.135884</td>\n",
       "      <td id=\"T_ed401_row1_col9\" class=\"data row1 col9\" >-0.261953</td>\n",
       "      <td id=\"T_ed401_row1_col10\" class=\"data row1 col10\" >-0.441191</td>\n",
       "    </tr>\n",
       "    <tr>\n",
       "      <th id=\"T_ed401_level0_row2\" class=\"row_heading level0 row2\" >danceability</th>\n",
       "      <td id=\"T_ed401_row2_col0\" class=\"data row2 col0\" >0.395703</td>\n",
       "      <td id=\"T_ed401_row2_col1\" class=\"data row2 col1\" >-0.509820</td>\n",
       "      <td id=\"T_ed401_row2_col2\" class=\"data row2 col2\" >1.000000</td>\n",
       "      <td id=\"T_ed401_row2_col3\" class=\"data row2 col3\" >-0.264801</td>\n",
       "      <td id=\"T_ed401_row2_col4\" class=\"data row2 col4\" >0.499332</td>\n",
       "      <td id=\"T_ed401_row2_col5\" class=\"data row2 col5\" >-0.371431</td>\n",
       "      <td id=\"T_ed401_row2_col6\" class=\"data row2 col6\" >-0.000238</td>\n",
       "      <td id=\"T_ed401_row2_col7\" class=\"data row2 col7\" >0.571736</td>\n",
       "      <td id=\"T_ed401_row2_col8\" class=\"data row2 col8\" >0.190372</td>\n",
       "      <td id=\"T_ed401_row2_col9\" class=\"data row2 col9\" >0.077938</td>\n",
       "      <td id=\"T_ed401_row2_col10\" class=\"data row2 col10\" >0.640638</td>\n",
       "    </tr>\n",
       "    <tr>\n",
       "      <th id=\"T_ed401_level0_row3\" class=\"row_heading level0 row3\" >duration_ms</th>\n",
       "      <td id=\"T_ed401_row3_col0\" class=\"data row3 col0\" >-0.181870</td>\n",
       "      <td id=\"T_ed401_row3_col1\" class=\"data row3 col1\" >0.155196</td>\n",
       "      <td id=\"T_ed401_row3_col2\" class=\"data row3 col2\" >-0.264801</td>\n",
       "      <td id=\"T_ed401_row3_col3\" class=\"data row3 col3\" >1.000000</td>\n",
       "      <td id=\"T_ed401_row3_col4\" class=\"data row3 col4\" >-0.160837</td>\n",
       "      <td id=\"T_ed401_row3_col5\" class=\"data row3 col5\" >0.189123</td>\n",
       "      <td id=\"T_ed401_row3_col6\" class=\"data row3 col6\" >0.007308</td>\n",
       "      <td id=\"T_ed401_row3_col7\" class=\"data row3 col7\" >-0.174406</td>\n",
       "      <td id=\"T_ed401_row3_col8\" class=\"data row3 col8\" >-0.107187</td>\n",
       "      <td id=\"T_ed401_row3_col9\" class=\"data row3 col9\" >-0.060936</td>\n",
       "      <td id=\"T_ed401_row3_col10\" class=\"data row3 col10\" >-0.241732</td>\n",
       "    </tr>\n",
       "    <tr>\n",
       "      <th id=\"T_ed401_level0_row4\" class=\"row_heading level0 row4\" >energy</th>\n",
       "      <td id=\"T_ed401_row4_col0\" class=\"data row4 col0\" >0.533840</td>\n",
       "      <td id=\"T_ed401_row4_col1\" class=\"data row4 col1\" >-0.859553</td>\n",
       "      <td id=\"T_ed401_row4_col2\" class=\"data row4 col2\" >0.499332</td>\n",
       "      <td id=\"T_ed401_row4_col3\" class=\"data row4 col3\" >-0.160837</td>\n",
       "      <td id=\"T_ed401_row4_col4\" class=\"data row4 col4\" >1.000000</td>\n",
       "      <td id=\"T_ed401_row4_col5\" class=\"data row4 col5\" >-0.510639</td>\n",
       "      <td id=\"T_ed401_row4_col6\" class=\"data row4 col6\" >0.158978</td>\n",
       "      <td id=\"T_ed401_row4_col7\" class=\"data row4 col7\" >0.870253</td>\n",
       "      <td id=\"T_ed401_row4_col8\" class=\"data row4 col8\" >0.163761</td>\n",
       "      <td id=\"T_ed401_row4_col9\" class=\"data row4 col9\" >0.294849</td>\n",
       "      <td id=\"T_ed401_row4_col10\" class=\"data row4 col10\" >0.539592</td>\n",
       "    </tr>\n",
       "    <tr>\n",
       "      <th id=\"T_ed401_level0_row5\" class=\"row_heading level0 row5\" >instrumentalness</th>\n",
       "      <td id=\"T_ed401_row5_col0\" class=\"data row5 col0\" >-0.463405</td>\n",
       "      <td id=\"T_ed401_row5_col1\" class=\"data row5 col1\" >0.505168</td>\n",
       "      <td id=\"T_ed401_row5_col2\" class=\"data row5 col2\" >-0.371431</td>\n",
       "      <td id=\"T_ed401_row5_col3\" class=\"data row5 col3\" >0.189123</td>\n",
       "      <td id=\"T_ed401_row5_col4\" class=\"data row5 col4\" >-0.510639</td>\n",
       "      <td id=\"T_ed401_row5_col5\" class=\"data row5 col5\" >1.000000</td>\n",
       "      <td id=\"T_ed401_row5_col6\" class=\"data row5 col6\" >-0.132078</td>\n",
       "      <td id=\"T_ed401_row5_col7\" class=\"data row5 col7\" >-0.587230</td>\n",
       "      <td id=\"T_ed401_row5_col8\" class=\"data row5 col8\" >-0.138947</td>\n",
       "      <td id=\"T_ed401_row5_col9\" class=\"data row5 col9\" >-0.186080</td>\n",
       "      <td id=\"T_ed401_row5_col10\" class=\"data row5 col10\" >-0.329313</td>\n",
       "    </tr>\n",
       "    <tr>\n",
       "      <th id=\"T_ed401_level0_row6\" class=\"row_heading level0 row6\" >liveness</th>\n",
       "      <td id=\"T_ed401_row6_col0\" class=\"data row6 col0\" >-0.015336</td>\n",
       "      <td id=\"T_ed401_row6_col1\" class=\"data row6 col1\" >-0.100194</td>\n",
       "      <td id=\"T_ed401_row6_col2\" class=\"data row6 col2\" >-0.000238</td>\n",
       "      <td id=\"T_ed401_row6_col3\" class=\"data row6 col3\" >0.007308</td>\n",
       "      <td id=\"T_ed401_row6_col4\" class=\"data row6 col4\" >0.158978</td>\n",
       "      <td id=\"T_ed401_row6_col5\" class=\"data row6 col5\" >-0.132078</td>\n",
       "      <td id=\"T_ed401_row6_col6\" class=\"data row6 col6\" >1.000000</td>\n",
       "      <td id=\"T_ed401_row6_col7\" class=\"data row6 col7\" >0.121902</td>\n",
       "      <td id=\"T_ed401_row6_col8\" class=\"data row6 col8\" >0.127015</td>\n",
       "      <td id=\"T_ed401_row6_col9\" class=\"data row6 col9\" >0.048343</td>\n",
       "      <td id=\"T_ed401_row6_col10\" class=\"data row6 col10\" >0.068618</td>\n",
       "    </tr>\n",
       "    <tr>\n",
       "      <th id=\"T_ed401_level0_row7\" class=\"row_heading level0 row7\" >loudness</th>\n",
       "      <td id=\"T_ed401_row7_col0\" class=\"data row7 col0\" >0.568866</td>\n",
       "      <td id=\"T_ed401_row7_col1\" class=\"data row7 col1\" >-0.785547</td>\n",
       "      <td id=\"T_ed401_row7_col2\" class=\"data row7 col2\" >0.571736</td>\n",
       "      <td id=\"T_ed401_row7_col3\" class=\"data row7 col3\" >-0.174406</td>\n",
       "      <td id=\"T_ed401_row7_col4\" class=\"data row7 col4\" >0.870253</td>\n",
       "      <td id=\"T_ed401_row7_col5\" class=\"data row7 col5\" >-0.587230</td>\n",
       "      <td id=\"T_ed401_row7_col6\" class=\"data row7 col6\" >0.121902</td>\n",
       "      <td id=\"T_ed401_row7_col7\" class=\"data row7 col7\" >1.000000</td>\n",
       "      <td id=\"T_ed401_row7_col8\" class=\"data row7 col8\" >0.142730</td>\n",
       "      <td id=\"T_ed401_row7_col9\" class=\"data row7 col9\" >0.273259</td>\n",
       "      <td id=\"T_ed401_row7_col10\" class=\"data row7 col10\" >0.492080</td>\n",
       "    </tr>\n",
       "    <tr>\n",
       "      <th id=\"T_ed401_level0_row8\" class=\"row_heading level0 row8\" >speechiness</th>\n",
       "      <td id=\"T_ed401_row8_col0\" class=\"data row8 col0\" >0.027777</td>\n",
       "      <td id=\"T_ed401_row8_col1\" class=\"data row8 col1\" >-0.135884</td>\n",
       "      <td id=\"T_ed401_row8_col2\" class=\"data row8 col2\" >0.190372</td>\n",
       "      <td id=\"T_ed401_row8_col3\" class=\"data row8 col3\" >-0.107187</td>\n",
       "      <td id=\"T_ed401_row8_col4\" class=\"data row8 col4\" >0.163761</td>\n",
       "      <td id=\"T_ed401_row8_col5\" class=\"data row8 col5\" >-0.138947</td>\n",
       "      <td id=\"T_ed401_row8_col6\" class=\"data row8 col6\" >0.127015</td>\n",
       "      <td id=\"T_ed401_row8_col7\" class=\"data row8 col7\" >0.142730</td>\n",
       "      <td id=\"T_ed401_row8_col8\" class=\"data row8 col8\" >1.000000</td>\n",
       "      <td id=\"T_ed401_row8_col9\" class=\"data row8 col9\" >0.079876</td>\n",
       "      <td id=\"T_ed401_row8_col10\" class=\"data row8 col10\" >0.132302</td>\n",
       "    </tr>\n",
       "    <tr>\n",
       "      <th id=\"T_ed401_level0_row9\" class=\"row_heading level0 row9\" >tempo</th>\n",
       "      <td id=\"T_ed401_row9_col0\" class=\"data row9 col0\" >0.178003</td>\n",
       "      <td id=\"T_ed401_row9_col1\" class=\"data row9 col1\" >-0.261953</td>\n",
       "      <td id=\"T_ed401_row9_col2\" class=\"data row9 col2\" >0.077938</td>\n",
       "      <td id=\"T_ed401_row9_col3\" class=\"data row9 col3\" >-0.060936</td>\n",
       "      <td id=\"T_ed401_row9_col4\" class=\"data row9 col4\" >0.294849</td>\n",
       "      <td id=\"T_ed401_row9_col5\" class=\"data row9 col5\" >-0.186080</td>\n",
       "      <td id=\"T_ed401_row9_col6\" class=\"data row9 col6\" >0.048343</td>\n",
       "      <td id=\"T_ed401_row9_col7\" class=\"data row9 col7\" >0.273259</td>\n",
       "      <td id=\"T_ed401_row9_col8\" class=\"data row9 col8\" >0.079876</td>\n",
       "      <td id=\"T_ed401_row9_col9\" class=\"data row9 col9\" >1.000000</td>\n",
       "      <td id=\"T_ed401_row9_col10\" class=\"data row9 col10\" >0.182284</td>\n",
       "    </tr>\n",
       "    <tr>\n",
       "      <th id=\"T_ed401_level0_row10\" class=\"row_heading level0 row10\" >valence</th>\n",
       "      <td id=\"T_ed401_row10_col0\" class=\"data row10 col0\" >0.297063</td>\n",
       "      <td id=\"T_ed401_row10_col1\" class=\"data row10 col1\" >-0.441191</td>\n",
       "      <td id=\"T_ed401_row10_col2\" class=\"data row10 col2\" >0.640638</td>\n",
       "      <td id=\"T_ed401_row10_col3\" class=\"data row10 col3\" >-0.241732</td>\n",
       "      <td id=\"T_ed401_row10_col4\" class=\"data row10 col4\" >0.539592</td>\n",
       "      <td id=\"T_ed401_row10_col5\" class=\"data row10 col5\" >-0.329313</td>\n",
       "      <td id=\"T_ed401_row10_col6\" class=\"data row10 col6\" >0.068618</td>\n",
       "      <td id=\"T_ed401_row10_col7\" class=\"data row10 col7\" >0.492080</td>\n",
       "      <td id=\"T_ed401_row10_col8\" class=\"data row10 col8\" >0.132302</td>\n",
       "      <td id=\"T_ed401_row10_col9\" class=\"data row10 col9\" >0.182284</td>\n",
       "      <td id=\"T_ed401_row10_col10\" class=\"data row10 col10\" >1.000000</td>\n",
       "    </tr>\n",
       "  </tbody>\n",
       "</table>\n"
      ],
      "text/plain": [
       "<pandas.io.formats.style.Styler at 0x22eb3f5cc70>"
      ]
     },
     "execution_count": 359,
     "metadata": {},
     "output_type": "execute_result"
    }
   ],
   "source": [
    "corr_metrics = genres_df.corr()\n",
    "corr_metrics.style.background_gradient()"
   ]
  },
  {
   "cell_type": "markdown",
   "id": "cc6dce1c",
   "metadata": {},
   "source": [
    "#### Check for missing values and duplicates"
   ]
  },
  {
   "cell_type": "markdown",
   "id": "ee6a4fba",
   "metadata": {},
   "source": [
    "There no null values in the datasets, as the function info() showed before. As for duplicates, there are 871, a 2.37 percent of the observations. Passing value_counts() to the column track_id shows that the máximum of ids duplicated is 2. The list of the first three shows that most of the information for the repeated tracks is the same, but the genre, which in the three cases is Dance and Rock. There is aldso a little difference in popuplarity, but it is minimum. This presents a problem for the analysis, because these duplicates are two genres at once. Since is just a 2.37 percent of the data, one possibility is drop those observations."
   ]
  },
  {
   "cell_type": "code",
   "execution_count": 360,
   "id": "019c90cd",
   "metadata": {},
   "outputs": [
    {
     "name": "stdout",
     "output_type": "stream",
     "text": [
      "Number of rows with track id duplicated:\n",
      "871\n"
     ]
    }
   ],
   "source": [
    "print('Number of rows with track id duplicated:'), print(genres_df['track_id'].duplicated().sum());"
   ]
  },
  {
   "cell_type": "code",
   "execution_count": 361,
   "id": "80e588d3",
   "metadata": {},
   "outputs": [
    {
     "name": "stdout",
     "output_type": "stream",
     "text": [
      "track_id              \n",
      "1FvDJ9KGxcqwv1utyPL3JZ    2\n",
      "78FHUZRbFDCG6VkRAQdFLm    2\n",
      "5GxeKtNdjSVAZTfxSsnXhF    2\n",
      "2QlPByrmEO9XciNBXCrawR    2\n",
      "4O2aCfXPP9FfPoIPixwVBz    2\n",
      "dtype: int64\n"
     ]
    }
   ],
   "source": [
    "print(genres_df[['track_id']].value_counts(). head(5))"
   ]
  },
  {
   "cell_type": "code",
   "execution_count": 362,
   "id": "968e0b77",
   "metadata": {},
   "outputs": [
    {
     "data": {
      "text/html": [
       "<div>\n",
       "<style scoped>\n",
       "    .dataframe tbody tr th:only-of-type {\n",
       "        vertical-align: middle;\n",
       "    }\n",
       "\n",
       "    .dataframe tbody tr th {\n",
       "        vertical-align: top;\n",
       "    }\n",
       "\n",
       "    .dataframe thead th {\n",
       "        text-align: right;\n",
       "    }\n",
       "</style>\n",
       "<table border=\"1\" class=\"dataframe\">\n",
       "  <thead>\n",
       "    <tr style=\"text-align: right;\">\n",
       "      <th></th>\n",
       "      <th>genre</th>\n",
       "      <th>artist_name</th>\n",
       "      <th>track_name</th>\n",
       "      <th>track_id</th>\n",
       "      <th>popularity</th>\n",
       "      <th>acousticness</th>\n",
       "      <th>danceability</th>\n",
       "      <th>duration_ms</th>\n",
       "      <th>energy</th>\n",
       "      <th>instrumentalness</th>\n",
       "      <th>key</th>\n",
       "      <th>liveness</th>\n",
       "      <th>loudness</th>\n",
       "      <th>mode</th>\n",
       "      <th>speechiness</th>\n",
       "      <th>tempo</th>\n",
       "      <th>time_signature</th>\n",
       "      <th>valence</th>\n",
       "    </tr>\n",
       "  </thead>\n",
       "  <tbody>\n",
       "    <tr>\n",
       "      <th>2055</th>\n",
       "      <td>Dance</td>\n",
       "      <td>Mr. Mister</td>\n",
       "      <td>Broken Wings</td>\n",
       "      <td>78FHUZRbFDCG6VkRAQdFLm</td>\n",
       "      <td>61</td>\n",
       "      <td>0.13400</td>\n",
       "      <td>0.286</td>\n",
       "      <td>343933</td>\n",
       "      <td>0.500</td>\n",
       "      <td>0.000046</td>\n",
       "      <td>C#</td>\n",
       "      <td>0.1080</td>\n",
       "      <td>-14.281</td>\n",
       "      <td>Minor</td>\n",
       "      <td>0.0357</td>\n",
       "      <td>99.162</td>\n",
       "      <td>4/4</td>\n",
       "      <td>0.443</td>\n",
       "    </tr>\n",
       "    <tr>\n",
       "      <th>32895</th>\n",
       "      <td>Rock</td>\n",
       "      <td>Mr. Mister</td>\n",
       "      <td>Broken Wings</td>\n",
       "      <td>78FHUZRbFDCG6VkRAQdFLm</td>\n",
       "      <td>62</td>\n",
       "      <td>0.13400</td>\n",
       "      <td>0.286</td>\n",
       "      <td>343933</td>\n",
       "      <td>0.500</td>\n",
       "      <td>0.000046</td>\n",
       "      <td>C#</td>\n",
       "      <td>0.1080</td>\n",
       "      <td>-14.281</td>\n",
       "      <td>Minor</td>\n",
       "      <td>0.0357</td>\n",
       "      <td>99.162</td>\n",
       "      <td>4/4</td>\n",
       "      <td>0.443</td>\n",
       "    </tr>\n",
       "    <tr>\n",
       "      <th>5124</th>\n",
       "      <td>Dance</td>\n",
       "      <td>Future Islands</td>\n",
       "      <td>Ran</td>\n",
       "      <td>5GxeKtNdjSVAZTfxSsnXhF</td>\n",
       "      <td>57</td>\n",
       "      <td>0.00252</td>\n",
       "      <td>0.465</td>\n",
       "      <td>205587</td>\n",
       "      <td>0.701</td>\n",
       "      <td>0.044700</td>\n",
       "      <td>G</td>\n",
       "      <td>0.0683</td>\n",
       "      <td>-6.828</td>\n",
       "      <td>Minor</td>\n",
       "      <td>0.0337</td>\n",
       "      <td>144.931</td>\n",
       "      <td>5/4</td>\n",
       "      <td>0.380</td>\n",
       "    </tr>\n",
       "    <tr>\n",
       "      <th>23816</th>\n",
       "      <td>Rock</td>\n",
       "      <td>Future Islands</td>\n",
       "      <td>Ran</td>\n",
       "      <td>5GxeKtNdjSVAZTfxSsnXhF</td>\n",
       "      <td>58</td>\n",
       "      <td>0.00252</td>\n",
       "      <td>0.465</td>\n",
       "      <td>205587</td>\n",
       "      <td>0.701</td>\n",
       "      <td>0.044700</td>\n",
       "      <td>G</td>\n",
       "      <td>0.0683</td>\n",
       "      <td>-6.828</td>\n",
       "      <td>Minor</td>\n",
       "      <td>0.0337</td>\n",
       "      <td>144.931</td>\n",
       "      <td>5/4</td>\n",
       "      <td>0.380</td>\n",
       "    </tr>\n",
       "    <tr>\n",
       "      <th>1201</th>\n",
       "      <td>Dance</td>\n",
       "      <td>The Smiths</td>\n",
       "      <td>This Charming Man - 2011 Remaster</td>\n",
       "      <td>1FvDJ9KGxcqwv1utyPL3JZ</td>\n",
       "      <td>72</td>\n",
       "      <td>0.00509</td>\n",
       "      <td>0.611</td>\n",
       "      <td>162920</td>\n",
       "      <td>0.846</td>\n",
       "      <td>0.000000</td>\n",
       "      <td>B</td>\n",
       "      <td>0.0784</td>\n",
       "      <td>-5.900</td>\n",
       "      <td>Major</td>\n",
       "      <td>0.0436</td>\n",
       "      <td>103.912</td>\n",
       "      <td>4/4</td>\n",
       "      <td>0.751</td>\n",
       "    </tr>\n",
       "    <tr>\n",
       "      <th>25864</th>\n",
       "      <td>Rock</td>\n",
       "      <td>The Smiths</td>\n",
       "      <td>This Charming Man - 2011 Remaster</td>\n",
       "      <td>1FvDJ9KGxcqwv1utyPL3JZ</td>\n",
       "      <td>73</td>\n",
       "      <td>0.00509</td>\n",
       "      <td>0.611</td>\n",
       "      <td>162920</td>\n",
       "      <td>0.846</td>\n",
       "      <td>0.000000</td>\n",
       "      <td>B</td>\n",
       "      <td>0.0784</td>\n",
       "      <td>-5.900</td>\n",
       "      <td>Major</td>\n",
       "      <td>0.0436</td>\n",
       "      <td>103.912</td>\n",
       "      <td>4/4</td>\n",
       "      <td>0.751</td>\n",
       "    </tr>\n",
       "  </tbody>\n",
       "</table>\n",
       "</div>"
      ],
      "text/plain": [
       "       genre     artist_name                         track_name  \\\n",
       "2055   Dance      Mr. Mister                       Broken Wings   \n",
       "32895   Rock      Mr. Mister                       Broken Wings   \n",
       "5124   Dance  Future Islands                                Ran   \n",
       "23816   Rock  Future Islands                                Ran   \n",
       "1201   Dance      The Smiths  This Charming Man - 2011 Remaster   \n",
       "25864   Rock      The Smiths  This Charming Man - 2011 Remaster   \n",
       "\n",
       "                     track_id  popularity  acousticness  danceability  \\\n",
       "2055   78FHUZRbFDCG6VkRAQdFLm          61       0.13400         0.286   \n",
       "32895  78FHUZRbFDCG6VkRAQdFLm          62       0.13400         0.286   \n",
       "5124   5GxeKtNdjSVAZTfxSsnXhF          57       0.00252         0.465   \n",
       "23816  5GxeKtNdjSVAZTfxSsnXhF          58       0.00252         0.465   \n",
       "1201   1FvDJ9KGxcqwv1utyPL3JZ          72       0.00509         0.611   \n",
       "25864  1FvDJ9KGxcqwv1utyPL3JZ          73       0.00509         0.611   \n",
       "\n",
       "       duration_ms  energy  instrumentalness key  liveness  loudness   mode  \\\n",
       "2055        343933   0.500          0.000046  C#    0.1080   -14.281  Minor   \n",
       "32895       343933   0.500          0.000046  C#    0.1080   -14.281  Minor   \n",
       "5124        205587   0.701          0.044700   G    0.0683    -6.828  Minor   \n",
       "23816       205587   0.701          0.044700   G    0.0683    -6.828  Minor   \n",
       "1201        162920   0.846          0.000000   B    0.0784    -5.900  Major   \n",
       "25864       162920   0.846          0.000000   B    0.0784    -5.900  Major   \n",
       "\n",
       "       speechiness    tempo time_signature  valence  \n",
       "2055        0.0357   99.162            4/4    0.443  \n",
       "32895       0.0357   99.162            4/4    0.443  \n",
       "5124        0.0337  144.931            5/4    0.380  \n",
       "23816       0.0337  144.931            5/4    0.380  \n",
       "1201        0.0436  103.912            4/4    0.751  \n",
       "25864       0.0436  103.912            4/4    0.751  "
      ]
     },
     "execution_count": 362,
     "metadata": {},
     "output_type": "execute_result"
    }
   ],
   "source": [
    "genres_df[genres_df['track_id'].isin(['1FvDJ9KGxcqwv1utyPL3JZ',\n",
    "                                      '78FHUZRbFDCG6VkRAQdFLm', '5GxeKtNdjSVAZTfxSsnXhF',])].sort_values(by='track_name')"
   ]
  },
  {
   "cell_type": "markdown",
   "id": "b5eca9e4",
   "metadata": {},
   "source": [
    "#### Genres of duplicates:"
   ]
  },
  {
   "cell_type": "markdown",
   "id": "d20bbf27",
   "metadata": {},
   "source": [
    "Since in the dataframe the genres are grouped, the duplicated tracks only belong to two genres: Rock and Jazz. To solve this, it is necessary to shuffle the dataframe, so the positions of the genres get mixed. Otherwise, dropping the duplicates could introduce biase against those genres. With the dataframe shuffled, it is clear that most of the trakcs that were given two genres were Dance and Rock songs."
   ]
  },
  {
   "cell_type": "code",
   "execution_count": 363,
   "id": "15ecbd51",
   "metadata": {},
   "outputs": [
    {
     "name": "stdout",
     "output_type": "stream",
     "text": [
      "Rock    791\n",
      "Jazz     80\n",
      "Name: genre, dtype: int64\n"
     ]
    }
   ],
   "source": [
    "dups = genres_df[genres_df['track_id'].duplicated()]\n",
    "print(dups['genre'].value_counts())"
   ]
  },
  {
   "cell_type": "code",
   "execution_count": 364,
   "id": "2657c43f",
   "metadata": {},
   "outputs": [
    {
     "name": "stdout",
     "output_type": "stream",
     "text": [
      "Dance        405\n",
      "Rock         391\n",
      "Jazz          43\n",
      "Classical     32\n",
      "Name: genre, dtype: int64\n"
     ]
    }
   ],
   "source": [
    "genres_shuffled = genres_df.sample(frac=1, random_state=100)\n",
    "dups2 = genres_shuffled[genres_shuffled['track_id'].duplicated()]\n",
    "print(dups2['genre'].value_counts())"
   ]
  },
  {
   "cell_type": "markdown",
   "id": "29c85551",
   "metadata": {},
   "source": [
    "## Data preparation"
   ]
  },
  {
   "cell_type": "markdown",
   "id": "329c66ed",
   "metadata": {},
   "source": [
    "#### Dropping duplicated rows"
   ]
  },
  {
   "cell_type": "markdown",
   "id": "36d8e0f5",
   "metadata": {},
   "source": [
    "For dropping the duplicates it can be used the index of the¡dups2 dataframe form before, the one made from a shuffle genres_df.\n",
    "The original dataframe had 36670, now it is reduced to 35799."
   ]
  },
  {
   "cell_type": "code",
   "execution_count": 365,
   "id": "79351abb",
   "metadata": {},
   "outputs": [],
   "source": [
    "genres_df = genres_df.loc[~genres_df.index.isin(dups2.index)]"
   ]
  },
  {
   "cell_type": "code",
   "execution_count": 366,
   "id": "c2cdde35",
   "metadata": {},
   "outputs": [
    {
     "data": {
      "text/plain": [
       "(35799, 18)"
      ]
     },
     "execution_count": 366,
     "metadata": {},
     "output_type": "execute_result"
    }
   ],
   "source": [
    "genres_df.shape"
   ]
  },
  {
   "cell_type": "markdown",
   "id": "c7ec9e00",
   "metadata": {},
   "source": [
    "#### Checking if the numbers of genres is balanced"
   ]
  },
  {
   "cell_type": "code",
   "execution_count": 367,
   "id": "028ff7fb",
   "metadata": {},
   "outputs": [
    {
     "data": {
      "image/png": "[encoded data removed]",
      "text/plain": [
       "<Figure size 432x288 with 1 Axes>"
      ]
     },
     "metadata": {
      "needs_background": "light"
     },
     "output_type": "display_data"
    }
   ],
   "source": [
    "sns.countplot(y=\"genre\", data=genres_df, color='steelblue');"
   ]
  },
  {
   "cell_type": "markdown",
   "id": "df5731c1",
   "metadata": {},
   "source": [
    "#### Dropping track id, artist name,  key, and track name columns"
   ]
  },
  {
   "cell_type": "code",
   "execution_count": 368,
   "id": "f7b4b6ee",
   "metadata": {},
   "outputs": [],
   "source": [
    "genres_df = genres_df.drop(['artist_name', 'track_id', 'track_name', 'key'], axis=1)"
   ]
  },
  {
   "cell_type": "code",
   "execution_count": 369,
   "id": "1dc3bf6b",
   "metadata": {},
   "outputs": [
    {
     "data": {
      "text/plain": [
       "Index(['genre', 'popularity', 'acousticness', 'danceability', 'duration_ms',\n",
       "       'energy', 'instrumentalness', 'liveness', 'loudness', 'mode',\n",
       "       'speechiness', 'tempo', 'time_signature', 'valence'],\n",
       "      dtype='object')"
      ]
     },
     "execution_count": 369,
     "metadata": {},
     "output_type": "execute_result"
    }
   ],
   "source": [
    "genres_df.columns"
   ]
  },
  {
   "cell_type": "markdown",
   "id": "e1f297f2",
   "metadata": {},
   "source": [
    "#### Tramforming mode and time signature to numbers"
   ]
  },
  {
   "cell_type": "markdown",
   "id": "c0832883",
   "metadata": {},
   "source": [
    "Transforming a binary column with values 'Major' and 'Minor', makes perfect sense. Changing times signatures to 0, 1, 2 3, and 4 is more risky, but may work. There is time to drop that column later. "
   ]
  },
  {
   "cell_type": "code",
   "execution_count": 370,
   "id": "cf68c365",
   "metadata": {},
   "outputs": [
    {
     "name": "stdout",
     "output_type": "stream",
     "text": [
      "['Minor' 'Major'] ['4/4' '3/4' '5/4' '1/4' '0/4']\n"
     ]
    }
   ],
   "source": [
    "print(genres_df['mode'].unique(), genres_df['time_signature'].unique())"
   ]
  },
  {
   "cell_type": "code",
   "execution_count": 371,
   "id": "dc0464a0",
   "metadata": {},
   "outputs": [],
   "source": [
    "genres_df['mode'].replace({'Major': 1, 'Minor': 0}, inplace=True)"
   ]
  },
  {
   "cell_type": "code",
   "execution_count": 372,
   "id": "24377c4f",
   "metadata": {},
   "outputs": [],
   "source": [
    "genres_df['time_signature'].replace({'4/4':0, '3/4': 1, '5/4':2, '1/4':3, '0/4':4}, inplace=True)"
   ]
  },
  {
   "cell_type": "code",
   "execution_count": 373,
   "id": "ff2fb91f",
   "metadata": {},
   "outputs": [
    {
     "name": "stdout",
     "output_type": "stream",
     "text": [
      "[0 1] [0 1 2 3 4]\n"
     ]
    }
   ],
   "source": [
    "print(genres_df['mode'].unique(), genres_df['time_signature'].unique())"
   ]
  },
  {
   "cell_type": "markdown",
   "id": "0a0f2e9d",
   "metadata": {},
   "source": [
    "## Model and Training"
   ]
  },
  {
   "cell_type": "markdown",
   "id": "d1d1ec58",
   "metadata": {},
   "source": [
    " "
   ]
  },
  {
   "cell_type": "markdown",
   "id": "6ffa8012",
   "metadata": {},
   "source": [
    "#### Split the data in train and test datasets"
   ]
  },
  {
   "cell_type": "code",
   "execution_count": 374,
   "id": "d413928c",
   "metadata": {},
   "outputs": [],
   "source": [
    "features = genres_df.drop(['genre'], axis=1).values\n",
    "labels = genres_df['genre'].values\n",
    "\n",
    "train_features, test_features, train_labels, test_labels = train_test_split(\n",
    "    features, labels, random_state=100, test_size=0.3, stratify=labels)"
   ]
  },
  {
   "cell_type": "markdown",
   "id": "ed2cbdc8",
   "metadata": {},
   "source": [
    "#### Standarization"
   ]
  },
  {
   "cell_type": "markdown",
   "id": "e65ed1f4",
   "metadata": {},
   "source": [
    "The features are on different scales. StandardScaler substract mean value of the column from each value and then the values are divided by the standard deviation of the column. The resulting columns have close to normal distribution."
   ]
  },
  {
   "cell_type": "code",
   "execution_count": 375,
   "id": "8d8288c0",
   "metadata": {},
   "outputs": [],
   "source": [
    "scaler = StandardScaler()\n",
    "S_train_features = scaler.fit_transform(train_features)\n",
    "S_test_features = scaler.transform(test_features)"
   ]
  },
  {
   "cell_type": "markdown",
   "id": "0a1bce22",
   "metadata": {},
   "source": [
    "#### Visualizing the explained variance "
   ]
  },
  {
   "cell_type": "markdown",
   "id": "d4b63abd",
   "metadata": {},
   "source": [
    "Explained_variance_ratio_ is the percentage of variance explained by each component, ordered from higher variance to lower variance. The cumulative sum show the sum of a component explained variance plus the previous. In the graph, an horizontal line shows the 90 % excplained variance."
   ]
  },
  {
   "cell_type": "code",
   "execution_count": 392,
   "id": "aeec5805",
   "metadata": {},
   "outputs": [
    {
     "data": {
      "image/png": "[encoded data removed]",
      "text/plain": [
       "<Figure size 432x288 with 1 Axes>"
      ]
     },
     "metadata": {
      "needs_background": "light"
     },
     "output_type": "display_data"
    }
   ],
   "source": [
    "fig, ax = plt.subplots()\n",
    "ax.bar(range(len(cum_exp_variance)), cum_exp_variance)\n",
    "ax.axhline(y=0.9, linestyle='--')\n",
    "plt.xticks([0,1,2,3,4,5,6,7,8,9])\n",
    "plt.title('Cumulative explainend variance', fontsize=16)\n",
    "plt.xlabel('Number of complnents');"
   ]
  },
  {
   "cell_type": "markdown",
   "id": "a8067945",
   "metadata": {},
   "source": [
    "#### Reduce dimensionality of features to 9"
   ]
  },
  {
   "cell_type": "markdown",
   "id": "77811c4c",
   "metadata": {},
   "source": [
    "PCA transforms reducing dimensionality with minimal loss of information, removing the redundancy present in data and retains only relevant information. It reduces the computational time required for training the model."
   ]
  },
  {
   "cell_type": "code",
   "execution_count": 378,
   "id": "1d33a637",
   "metadata": {},
   "outputs": [],
   "source": [
    "pca = PCA(n_components=9, random_state=100)\n",
    "\n",
    "train_pca = pca.fit_transform(S_train_features)\n",
    "test_pca = pca.transform(S_test_features)"
   ]
  },
  {
   "cell_type": "markdown",
   "id": "2694a2d5",
   "metadata": {},
   "source": [
    "#### Train a decision tree, a logistic regression classifier, and a neighbors classifier"
   ]
  },
  {
   "cell_type": "markdown",
   "id": "da4192b2",
   "metadata": {},
   "source": [
    "The three models preformed similary. About 85% precision predicting Classical genre, 77% Jazz genres, but did not so well with Dance and Rock: arond 60%."
   ]
  },
  {
   "cell_type": "code",
   "execution_count": 379,
   "id": "66b40558",
   "metadata": {},
   "outputs": [],
   "source": [
    "tree = DecisionTreeClassifier(random_state=100)\n",
    "tree.fit(train_pca, train_labels)\n",
    "\n",
    "prediction_tree = tree.predict(test_pca)"
   ]
  },
  {
   "cell_type": "code",
   "execution_count": 380,
   "id": "27caa1ba",
   "metadata": {},
   "outputs": [
    {
     "name": "stdout",
     "output_type": "stream",
     "text": [
      "              precision    recall  f1-score   support\n",
      "\n",
      "   Classical       0.82      0.82      0.82      2767\n",
      "       Dance       0.53      0.55      0.54      2489\n",
      "        Jazz       0.67      0.65      0.66      2820\n",
      "        Rock       0.55      0.55      0.55      2664\n",
      "\n",
      "    accuracy                           0.65     10740\n",
      "   macro avg       0.64      0.64      0.64     10740\n",
      "weighted avg       0.65      0.65      0.65     10740\n",
      "\n"
     ]
    }
   ],
   "source": [
    "print(classification_report(test_labels, prediction_tree))"
   ]
  },
  {
   "cell_type": "code",
   "execution_count": 381,
   "id": "d7cc8d5f",
   "metadata": {},
   "outputs": [],
   "source": [
    "logreg = LogisticRegression(random_state=100)\n",
    "logreg.fit(train_pca, train_labels)\n",
    "\n",
    "prediction_log = logreg.predict(test_pca)"
   ]
  },
  {
   "cell_type": "code",
   "execution_count": 382,
   "id": "ca19e13b",
   "metadata": {},
   "outputs": [
    {
     "name": "stdout",
     "output_type": "stream",
     "text": [
      "              precision    recall  f1-score   support\n",
      "\n",
      "   Classical       0.85      0.87      0.86      2767\n",
      "       Dance       0.62      0.53      0.57      2489\n",
      "        Jazz       0.77      0.73      0.75      2820\n",
      "        Rock       0.59      0.68      0.63      2664\n",
      "\n",
      "    accuracy                           0.71     10740\n",
      "   macro avg       0.70      0.70      0.70     10740\n",
      "weighted avg       0.71      0.71      0.71     10740\n",
      "\n"
     ]
    }
   ],
   "source": [
    "print(classification_report(test_labels, prediction_log))"
   ]
  },
  {
   "cell_type": "code",
   "execution_count": 383,
   "id": "5bdccc46",
   "metadata": {},
   "outputs": [],
   "source": [
    "knn = KNeighborsClassifier(n_neighbors=5)\n",
    "knn.fit(train_pca, train_labels)\n",
    "prediction_knn = knn.predict(test_pca)"
   ]
  },
  {
   "cell_type": "code",
   "execution_count": 384,
   "id": "3eb5974a",
   "metadata": {},
   "outputs": [
    {
     "name": "stdout",
     "output_type": "stream",
     "text": [
      "              precision    recall  f1-score   support\n",
      "\n",
      "   Classical       0.87      0.88      0.88      2767\n",
      "       Dance       0.57      0.62      0.60      2489\n",
      "        Jazz       0.77      0.75      0.76      2820\n",
      "        Rock       0.62      0.57      0.60      2664\n",
      "\n",
      "    accuracy                           0.71     10740\n",
      "   macro avg       0.71      0.71      0.71     10740\n",
      "weighted avg       0.71      0.71      0.71     10740\n",
      "\n"
     ]
    }
   ],
   "source": [
    "print(classification_report(test_labels, prediction_knn))"
   ]
  },
  {
   "cell_type": "markdown",
   "id": "1a68b26f",
   "metadata": {},
   "source": [
    "#### Evaluating the models through cross validation"
   ]
  },
  {
   "cell_type": "markdown",
   "id": "49d77a85",
   "metadata": {},
   "source": [
    "K-fold splits the data into equally sized subsets. Then, it uses each subset as a test set while using the remainder of the data as train sets. In this test Neighbors Classifier performs a little better than the other two."
   ]
  },
  {
   "cell_type": "code",
   "execution_count": 385,
   "id": "b39f7c20",
   "metadata": {},
   "outputs": [
    {
     "name": "stdout",
     "output_type": "stream",
     "text": [
      "Decision Tree: 0.5419950409043442 Logistic Regression: 0.5461557018673485 Neighbors Classifier: 0.5781949563015794\n"
     ]
    }
   ],
   "source": [
    "tree_pipe = Pipeline([(\"scaler\", StandardScaler()), (\"pca\", PCA(n_components=8)), \n",
    "                      (\"tree\", DecisionTreeClassifier(random_state=100))])\n",
    "logreg_pipe = Pipeline([(\"scaler\", StandardScaler()), (\"pca\", PCA(n_components=8)), \n",
    "                        (\"logreg\", LogisticRegression(random_state=100))])\n",
    "knn_pipe = Pipeline([(\"scaler\", StandardScaler()), (\"pca\", PCA(n_components=8)), \n",
    "                        (\"knn\", KNeighborsClassifier(n_neighbors=5))])\n",
    "\n",
    "kf = KFold(10)\n",
    "\n",
    "tree_score = cross_val_score(tree_pipe, features, labels, cv=kf)\n",
    "logit_score = cross_val_score(logreg_pipe, features, labels, cv=kf)\n",
    "knn_score = cross_val_score(knn_pipe, features, labels, cv=kf)\n",
    "\n",
    "print(\"Decision Tree:\", np.mean(tree_score), \"Logistic Regression:\", np.mean(logit_score),\n",
    "      \"Neighbors Classifier:\", np.mean(knn_score))"
   ]
  },
  {
   "cell_type": "code",
   "execution_count": null,
   "id": "1c0a7b67",
   "metadata": {},
   "outputs": [],
   "source": []
  },
  {
   "cell_type": "code",
   "execution_count": null,
   "id": "3d1d87e9",
   "metadata": {},
   "outputs": [],
   "source": []
  },
  {
   "cell_type": "code",
   "execution_count": null,
   "id": "6a8d0645",
   "metadata": {},
   "outputs": [],
   "source": []
  },
  {
   "cell_type": "code",
   "execution_count": null,
   "id": "a80c430b",
   "metadata": {},
   "outputs": [],
   "source": []
  }
 ],
 "metadata": {
  "kernelspec": {
   "display_name": "Python 3 (ipykernel)",
   "language": "python",
   "name": "python3"
  },
  "language_info": {
   "codemirror_mode": {
    "name": "ipython",
    "version": 3
   },
   "file_extension": ".py",
   "mimetype": "text/x-python",
   "name": "python",
   "nbconvert_exporter": "python",
   "pygments_lexer": "ipython3",
   "version": "3.10.0"
  }
 },
 "nbformat": 4,
 "nbformat_minor": 5
}
